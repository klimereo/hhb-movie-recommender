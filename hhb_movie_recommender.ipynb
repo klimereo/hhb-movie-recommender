{
  "nbformat": 4,
  "nbformat_minor": 0,
  "metadata": {
    "colab": {
      "provenance": []
    },
    "kernelspec": {
      "name": "python3",
      "display_name": "Python 3"
    },
    "language_info": {
      "name": "python"
    }
  },
  "cells": [
    {
      "cell_type": "code",
      "execution_count": 4,
      "metadata": {
        "colab": {
          "base_uri": "https://localhost:8080/"
        },
        "id": "YdGElf1CxNGU",
        "outputId": "ff04dbec-5eaf-443d-e943-91b0698f9aed"
      },
      "outputs": [
        {
          "output_type": "stream",
          "name": "stdout",
          "text": [
            "Looking in indexes: https://pypi.org/simple, https://us-python.pkg.dev/colab-wheels/public/simple/\n",
            "Collecting rotten_tomatoes_scraper\n",
            "  Downloading rotten_tomatoes_scraper-1.4.0-py3-none-any.whl (7.6 kB)\n",
            "Requirement already satisfied: requests in /usr/local/lib/python3.9/dist-packages (from rotten_tomatoes_scraper) (2.27.1)\n",
            "Collecting bs4\n",
            "  Downloading bs4-0.0.1.tar.gz (1.1 kB)\n",
            "  Preparing metadata (setup.py) ... \u001b[?25l\u001b[?25hdone\n",
            "Requirement already satisfied: lxml in /usr/local/lib/python3.9/dist-packages (from rotten_tomatoes_scraper) (4.9.2)\n",
            "Requirement already satisfied: beautifulsoup4 in /usr/local/lib/python3.9/dist-packages (from bs4->rotten_tomatoes_scraper) (4.11.2)\n",
            "Requirement already satisfied: charset-normalizer~=2.0.0 in /usr/local/lib/python3.9/dist-packages (from requests->rotten_tomatoes_scraper) (2.0.12)\n",
            "Requirement already satisfied: urllib3<1.27,>=1.21.1 in /usr/local/lib/python3.9/dist-packages (from requests->rotten_tomatoes_scraper) (1.26.15)\n",
            "Requirement already satisfied: idna<4,>=2.5 in /usr/local/lib/python3.9/dist-packages (from requests->rotten_tomatoes_scraper) (3.4)\n",
            "Requirement already satisfied: certifi>=2017.4.17 in /usr/local/lib/python3.9/dist-packages (from requests->rotten_tomatoes_scraper) (2022.12.7)\n",
            "Requirement already satisfied: soupsieve>1.2 in /usr/local/lib/python3.9/dist-packages (from beautifulsoup4->bs4->rotten_tomatoes_scraper) (2.4)\n",
            "Building wheels for collected packages: bs4\n",
            "  Building wheel for bs4 (setup.py) ... \u001b[?25l\u001b[?25hdone\n",
            "  Created wheel for bs4: filename=bs4-0.0.1-py3-none-any.whl size=1270 sha256=be4b7da1ad110d50dcb6bab965d263d6e1a5cd457ff074bd463af749c847c1b3\n",
            "  Stored in directory: /root/.cache/pip/wheels/73/2b/cb/099980278a0c9a3e57ff1a89875ec07bfa0b6fcbebb9a8cad3\n",
            "Successfully built bs4\n",
            "Installing collected packages: bs4, rotten_tomatoes_scraper\n",
            "Successfully installed bs4-0.0.1 rotten_tomatoes_scraper-1.4.0\n"
          ]
        }
      ],
      "source": [
        "!pip install tmdbsimple -q\n",
        "!pip3 install rotten_tomatoes_scraper"
      ]
    },
    {
      "cell_type": "code",
      "source": [
        "import tmdbsimple as tmdb\n",
        "tmdb.API_KEY = 'd24fb5633c876c3450857852f36fd3fb'"
      ],
      "metadata": {
        "id": "B7k5ZdBW3Rdt"
      },
      "execution_count": 5,
      "outputs": []
    },
    {
      "cell_type": "code",
      "source": [
        "from rotten_tomatoes_scraper.rt_scraper import MovieScraper\n",
        "import requests\n",
        "from bs4 import BeautifulSoup\n",
        "import pandas as pd"
      ],
      "metadata": {
        "id": "vQSF0dq9ETKd"
      },
      "execution_count": 6,
      "outputs": []
    },
    {
      "cell_type": "code",
      "source": [
        "tmdb.REQUESTS_TIMEOUT = 5"
      ],
      "metadata": {
        "id": "8KowwGmE3UBV"
      },
      "execution_count": 7,
      "outputs": []
    },
    {
      "cell_type": "code",
      "source": [
        "def information_extractor(movie_name, movie_year, hhb_score):\n",
        "\n",
        "  search = tmdb.Search()\n",
        "  search_response = search.movie(query=movie_name)\n",
        "\n",
        "  ## Extracting TMDB ID\n",
        "\n",
        "  tmdb_movie_id = []\n",
        "\n",
        "  for s in search.results:\n",
        "    if int(s['release_date'][0:4]) == movie_year:\n",
        "      tmdb_movie_id.append(s['id'])\n",
        "      break\n",
        "    else:\n",
        "      continue\n",
        "  \n",
        "  ## Extracting TMDB information based on ID\n",
        "\n",
        "  film_info = tmdb.Movies(tmdb_movie_id[0]).info()\n",
        "  credits = tmdb.Movies(tmdb_movie_id[0]).credits()\n",
        "\n",
        "\n",
        "  genres = []\n",
        "\n",
        "  for genre in film_info['genres']:\n",
        "    genres.append(genre['name'])\n",
        "\n",
        "  \n",
        "  budget = film_info['budget']\n",
        "  revenue = film_info['revenue']\n",
        "  runtime = film_info['runtime']\n",
        "  tmdb_score = film_info['vote_average']\n",
        "  director = \"\"\n",
        "  actors = []\n",
        "\n",
        "  for person in credits['crew']:\n",
        "    if person['job'] == \"Director\":\n",
        "      director = person['name']\n",
        "      break\n",
        "    else:\n",
        "      continue\n",
        "  \n",
        "  first_two_actors = credits['cast'][:2]\n",
        "\n",
        "  for actor in first_two_actors:\n",
        "    actors.append(actor['name'])\n",
        "\n",
        "\n",
        "\n",
        "  # Rotten Tomatoes\n",
        "\n",
        "  base_url = 'https://www.rottentomatoes.com/m/'\n",
        "  movie_code_url = \"_\".join(film_info['title'].strip().lower().split())\n",
        "\n",
        "  result_url_with_year = base_url + movie_code_url + \"_\" + str(movie_year)\n",
        "  result_url_without_year = base_url + movie_code_url\n",
        "\n",
        "  try:\n",
        "    try:\n",
        "      movie_scraper = MovieScraper(movie_url=result_url_with_year)\n",
        "      movie_scraper.extract_metadata()\n",
        "      rotten_score = movie_scraper.metadata['Score_Rotten']\n",
        "    except:\n",
        "      movie_scraper = MovieScraper(movie_url=result_url_without_year)\n",
        "      movie_scraper.extract_metadata()\n",
        "      rotten_score = movie_scraper.metadata['Score_Rotten']\n",
        "  except:\n",
        "    rotten_score = \"RT Score Unavailable\"\n",
        "\n",
        "  entry = {'Title': film_info['title'],\n",
        "           'Year': int(movie_year),\n",
        "           'Budget': budget,\n",
        "           'Revenue': revenue,\n",
        "           'Runtime': runtime,\n",
        "           'Genres': genres,\n",
        "           'Director': director,\n",
        "           'Actors': actors,\n",
        "           'TMDB Score': tmdb_score,\n",
        "           'RT Score': rotten_score,\n",
        "           'HHB Score': hhb_score}\n",
        "\n",
        "\n",
        "  return entry"
      ],
      "metadata": {
        "id": "cTGaHWvk88x6"
      },
      "execution_count": 8,
      "outputs": []
    },
    {
      "cell_type": "code",
      "source": [
        "def query_generator():\n",
        "\n",
        "  title = str(input('What is the title?\\n'))\n",
        "  year = int(input('What is the release year?\\n'))\n",
        "  hhb_score = str(input('What is the HHB Score?\\n'))\n",
        "  print(\"***************************************\")\n",
        "  query = {'title': title,\n",
        "              'year': year,\n",
        "              'hhb_score': hhb_score}\n",
        "\n",
        "  return query"
      ],
      "metadata": {
        "id": "2WfiBkKGQNMX"
      },
      "execution_count": 17,
      "outputs": []
    },
    {
      "cell_type": "code",
      "source": [
        "def pipeline():\n",
        "\n",
        "  loop = int(input('How many entries do you want to generate?\\n'))\n",
        "\n",
        "  generated_entries = []\n",
        "\n",
        "  i = 0\n",
        "\n",
        "  while i != loop:\n",
        "    try:\n",
        "      query = query_generator()\n",
        "      entry = information_extractor(movie_name = query['title'],\n",
        "                                    movie_year = query['year'],\n",
        "                                    hhb_score = query['hhb_score'])\n",
        "      \n",
        "      generated_entries.append(entry)\n",
        "      i = i + 1\n",
        "    except:\n",
        "      print('Failed to extract information about this movie.')\n",
        "      i = i +1\n",
        "      continue\n",
        "\n",
        "\n",
        "  generated_dataframe = pd.DataFrame(generated_entries)\n",
        "\n",
        "  return generated_dataframe"
      ],
      "metadata": {
        "id": "8-RJSPJISDyS"
      },
      "execution_count": 13,
      "outputs": []
    },
    {
      "cell_type": "code",
      "source": [
        "information_extractor(\"Melancholia\", 2011, 'P')"
      ],
      "metadata": {
        "colab": {
          "base_uri": "https://localhost:8080/"
        },
        "id": "jWRQz4_2AcYM",
        "outputId": "383ba79c-1c39-4151-85f9-e4238072eb2e"
      },
      "execution_count": 110,
      "outputs": [
        {
          "output_type": "execute_result",
          "data": {
            "text/plain": [
              "{'Title': 'Melancholia',\n",
              " 'Year': 2011,\n",
              " 'Budget': 7400000,\n",
              " 'Revenue': 15946321,\n",
              " 'Runtime': 135,\n",
              " 'Genres': ['Drama', 'Science Fiction'],\n",
              " 'Director': 'Lars von Trier',\n",
              " 'Actors': ['Kirsten Dunst', 'Charlotte Gainsbourg'],\n",
              " 'TMDB Score': 7.2,\n",
              " 'RT Score': '79',\n",
              " 'HHB Score': 'P'}"
            ]
          },
          "metadata": {},
          "execution_count": 110
        }
      ]
    },
    {
      "cell_type": "code",
      "source": [
        "entries = pipeline()"
      ],
      "metadata": {
        "colab": {
          "base_uri": "https://localhost:8080/"
        },
        "id": "Rk1BngsnS2rs",
        "outputId": "dec93feb-6894-42bd-859d-c7440a581d73"
      },
      "execution_count": 18,
      "outputs": [
        {
          "output_type": "stream",
          "name": "stdout",
          "text": [
            "How many entries do you want to generate?\n",
            "2\n",
            "What is the title?\n",
            "assassination of jesse james\n",
            "What is the release year?\n",
            "2007\n",
            "What is the HHB Score?\n",
            "P\n",
            "***************************************\n",
            "What is the title?\n",
            "melancholia\n",
            "What is the release year?\n",
            "2011\n",
            "What is the HHB Score?\n",
            "P\n",
            "***************************************\n"
          ]
        }
      ]
    },
    {
      "cell_type": "code",
      "source": [
        "entries"
      ],
      "metadata": {
        "colab": {
          "base_uri": "https://localhost:8080/",
          "height": 243
        },
        "id": "eNxKqZZ8S_qm",
        "outputId": "1150d121-632e-4594-d137-59312848f041"
      },
      "execution_count": 19,
      "outputs": [
        {
          "output_type": "execute_result",
          "data": {
            "text/plain": [
              "                                               Title  Year    Budget  \\\n",
              "0  The Assassination of Jesse James by the Coward...  2007  30000000   \n",
              "1                                        Melancholia  2011   7400000   \n",
              "\n",
              "    Revenue  Runtime                    Genres        Director  \\\n",
              "0  14711793      160  [Action, Drama, Western]  Andrew Dominik   \n",
              "1  15946321      135  [Drama, Science Fiction]  Lars von Trier   \n",
              "\n",
              "                                  Actors  TMDB Score              RT Score  \\\n",
              "0             [Brad Pitt, Casey Affleck]       7.066  RT Score Unavailable   \n",
              "1  [Kirsten Dunst, Charlotte Gainsbourg]       7.200                    79   \n",
              "\n",
              "  HHB Score  \n",
              "0         P  \n",
              "1         P  "
            ],
            "text/html": [
              "\n",
              "  <div id=\"df-7f0cd18e-560e-4e0d-9aba-027caaae6241\">\n",
              "    <div class=\"colab-df-container\">\n",
              "      <div>\n",
              "<style scoped>\n",
              "    .dataframe tbody tr th:only-of-type {\n",
              "        vertical-align: middle;\n",
              "    }\n",
              "\n",
              "    .dataframe tbody tr th {\n",
              "        vertical-align: top;\n",
              "    }\n",
              "\n",
              "    .dataframe thead th {\n",
              "        text-align: right;\n",
              "    }\n",
              "</style>\n",
              "<table border=\"1\" class=\"dataframe\">\n",
              "  <thead>\n",
              "    <tr style=\"text-align: right;\">\n",
              "      <th></th>\n",
              "      <th>Title</th>\n",
              "      <th>Year</th>\n",
              "      <th>Budget</th>\n",
              "      <th>Revenue</th>\n",
              "      <th>Runtime</th>\n",
              "      <th>Genres</th>\n",
              "      <th>Director</th>\n",
              "      <th>Actors</th>\n",
              "      <th>TMDB Score</th>\n",
              "      <th>RT Score</th>\n",
              "      <th>HHB Score</th>\n",
              "    </tr>\n",
              "  </thead>\n",
              "  <tbody>\n",
              "    <tr>\n",
              "      <th>0</th>\n",
              "      <td>The Assassination of Jesse James by the Coward...</td>\n",
              "      <td>2007</td>\n",
              "      <td>30000000</td>\n",
              "      <td>14711793</td>\n",
              "      <td>160</td>\n",
              "      <td>[Action, Drama, Western]</td>\n",
              "      <td>Andrew Dominik</td>\n",
              "      <td>[Brad Pitt, Casey Affleck]</td>\n",
              "      <td>7.066</td>\n",
              "      <td>RT Score Unavailable</td>\n",
              "      <td>P</td>\n",
              "    </tr>\n",
              "    <tr>\n",
              "      <th>1</th>\n",
              "      <td>Melancholia</td>\n",
              "      <td>2011</td>\n",
              "      <td>7400000</td>\n",
              "      <td>15946321</td>\n",
              "      <td>135</td>\n",
              "      <td>[Drama, Science Fiction]</td>\n",
              "      <td>Lars von Trier</td>\n",
              "      <td>[Kirsten Dunst, Charlotte Gainsbourg]</td>\n",
              "      <td>7.200</td>\n",
              "      <td>79</td>\n",
              "      <td>P</td>\n",
              "    </tr>\n",
              "  </tbody>\n",
              "</table>\n",
              "</div>\n",
              "      <button class=\"colab-df-convert\" onclick=\"convertToInteractive('df-7f0cd18e-560e-4e0d-9aba-027caaae6241')\"\n",
              "              title=\"Convert this dataframe to an interactive table.\"\n",
              "              style=\"display:none;\">\n",
              "        \n",
              "  <svg xmlns=\"http://www.w3.org/2000/svg\" height=\"24px\"viewBox=\"0 0 24 24\"\n",
              "       width=\"24px\">\n",
              "    <path d=\"M0 0h24v24H0V0z\" fill=\"none\"/>\n",
              "    <path d=\"M18.56 5.44l.94 2.06.94-2.06 2.06-.94-2.06-.94-.94-2.06-.94 2.06-2.06.94zm-11 1L8.5 8.5l.94-2.06 2.06-.94-2.06-.94L8.5 2.5l-.94 2.06-2.06.94zm10 10l.94 2.06.94-2.06 2.06-.94-2.06-.94-.94-2.06-.94 2.06-2.06.94z\"/><path d=\"M17.41 7.96l-1.37-1.37c-.4-.4-.92-.59-1.43-.59-.52 0-1.04.2-1.43.59L10.3 9.45l-7.72 7.72c-.78.78-.78 2.05 0 2.83L4 21.41c.39.39.9.59 1.41.59.51 0 1.02-.2 1.41-.59l7.78-7.78 2.81-2.81c.8-.78.8-2.07 0-2.86zM5.41 20L4 18.59l7.72-7.72 1.47 1.35L5.41 20z\"/>\n",
              "  </svg>\n",
              "      </button>\n",
              "      \n",
              "  <style>\n",
              "    .colab-df-container {\n",
              "      display:flex;\n",
              "      flex-wrap:wrap;\n",
              "      gap: 12px;\n",
              "    }\n",
              "\n",
              "    .colab-df-convert {\n",
              "      background-color: #E8F0FE;\n",
              "      border: none;\n",
              "      border-radius: 50%;\n",
              "      cursor: pointer;\n",
              "      display: none;\n",
              "      fill: #1967D2;\n",
              "      height: 32px;\n",
              "      padding: 0 0 0 0;\n",
              "      width: 32px;\n",
              "    }\n",
              "\n",
              "    .colab-df-convert:hover {\n",
              "      background-color: #E2EBFA;\n",
              "      box-shadow: 0px 1px 2px rgba(60, 64, 67, 0.3), 0px 1px 3px 1px rgba(60, 64, 67, 0.15);\n",
              "      fill: #174EA6;\n",
              "    }\n",
              "\n",
              "    [theme=dark] .colab-df-convert {\n",
              "      background-color: #3B4455;\n",
              "      fill: #D2E3FC;\n",
              "    }\n",
              "\n",
              "    [theme=dark] .colab-df-convert:hover {\n",
              "      background-color: #434B5C;\n",
              "      box-shadow: 0px 1px 3px 1px rgba(0, 0, 0, 0.15);\n",
              "      filter: drop-shadow(0px 1px 2px rgba(0, 0, 0, 0.3));\n",
              "      fill: #FFFFFF;\n",
              "    }\n",
              "  </style>\n",
              "\n",
              "      <script>\n",
              "        const buttonEl =\n",
              "          document.querySelector('#df-7f0cd18e-560e-4e0d-9aba-027caaae6241 button.colab-df-convert');\n",
              "        buttonEl.style.display =\n",
              "          google.colab.kernel.accessAllowed ? 'block' : 'none';\n",
              "\n",
              "        async function convertToInteractive(key) {\n",
              "          const element = document.querySelector('#df-7f0cd18e-560e-4e0d-9aba-027caaae6241');\n",
              "          const dataTable =\n",
              "            await google.colab.kernel.invokeFunction('convertToInteractive',\n",
              "                                                     [key], {});\n",
              "          if (!dataTable) return;\n",
              "\n",
              "          const docLinkHtml = 'Like what you see? Visit the ' +\n",
              "            '<a target=\"_blank\" href=https://colab.research.google.com/notebooks/data_table.ipynb>data table notebook</a>'\n",
              "            + ' to learn more about interactive tables.';\n",
              "          element.innerHTML = '';\n",
              "          dataTable['output_type'] = 'display_data';\n",
              "          await google.colab.output.renderOutput(dataTable, element);\n",
              "          const docLink = document.createElement('div');\n",
              "          docLink.innerHTML = docLinkHtml;\n",
              "          element.appendChild(docLink);\n",
              "        }\n",
              "      </script>\n",
              "    </div>\n",
              "  </div>\n",
              "  "
            ]
          },
          "metadata": {},
          "execution_count": 19
        }
      ]
    }
  ]
}